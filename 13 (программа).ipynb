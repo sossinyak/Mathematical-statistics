{
 "cells": [
  {
   "cell_type": "code",
   "execution_count": 12,
   "id": "84d717d5",
   "metadata": {},
   "outputs": [
    {
     "name": "stdout",
     "output_type": "stream",
     "text": [
      "0.176 0.176 0.352\n"
     ]
    }
   ],
   "source": [
    "import numpy as np\n",
    "import scipy.integrate as integrate\n",
    "\n",
    "from math import exp\n",
    "\n",
    "def p_value(C, D):\n",
    "    def f(x):\n",
    "        return 1/(2*np.pi)**0.5 * exp((-x**2)/2)\n",
    "    i = integrate.quad(f, C, D)\n",
    "    return i[0]\n",
    "\n",
    "print(\"%.3f\"%p_value(-np.inf, -0.93), \"%.3f\"%p_value(0.93, np.inf), \"%.3f\"%(2 * p_value(0.93, np.inf)))"
   ]
  }
 ],
 "metadata": {
  "kernelspec": {
   "display_name": "Python 3 (ipykernel)",
   "language": "python",
   "name": "python3"
  },
  "language_info": {
   "codemirror_mode": {
    "name": "ipython",
    "version": 3
   },
   "file_extension": ".py",
   "mimetype": "text/x-python",
   "name": "python",
   "nbconvert_exporter": "python",
   "pygments_lexer": "ipython3",
   "version": "3.11.5"
  }
 },
 "nbformat": 4,
 "nbformat_minor": 5
}
